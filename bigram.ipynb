{
 "cells": [
  {
   "cell_type": "code",
   "execution_count": 1,
   "metadata": {},
   "outputs": [],
   "source": [
    "# Imports\n",
    "import torch\n",
    "import torch.nn as nn\n",
    "from torch.nn import functional as F\n",
    "import os"
   ]
  },
  {
   "cell_type": "code",
   "execution_count": 2,
   "metadata": {},
   "outputs": [
    {
     "name": "stdout",
     "output_type": "stream",
     "text": [
      "mps\n"
     ]
    }
   ],
   "source": [
    "# Set the device to 'mps' if CUDA is available, otherwise set it to 'cpu' for using apple silicon\n",
    "device = \"mps\" if torch.backends.mps.is_available() else \"cpu\"\n",
    "# Print the device that will be used for computations\n",
    "print(device)\n",
    "block_size = 8\n",
    "batch_size = 4\n",
    "max_iters = 10000\n",
    "# eval_interval = 2500\n",
    "learning_rate = 3e-4\n",
    "eval_iters = 250\n",
    "# dropout = 0.2"
   ]
  },
  {
   "cell_type": "code",
   "execution_count": 3,
   "metadata": {},
   "outputs": [],
   "source": [
    "# Open the file 'wizard_of_oz.txt' in read mode with utf-8 encoding\n",
    "with open(\"wizard_of_oz.txt\", 'r', encoding='utf-8') as f:\n",
    "    # Read the entire content of the file into the variable 'text'\n",
    "    text = f.read()\n",
    "\n",
    "# Create a sorted set of unique characters present in the 'text'\n",
    "chars = sorted(set(text))\n",
    "\n",
    "# Calculate the size of the vocabulary, which is the number of unique characters in the 'text'\n",
    "vocab_size = len(chars)"
   ]
  },
  {
   "cell_type": "code",
   "execution_count": 4,
   "metadata": {},
   "outputs": [],
   "source": [
    "# Create a dictionary to map each character to a unique integer\n",
    "string_to_int = { ch:i for i, ch in enumerate(chars) }\n",
    "# Create a dictionary to map each integer back to its corresponding character\n",
    "int_to_string = { i:ch for i, ch in enumerate(chars) }\n",
    "# Define a function to encode a string into a list of integers\n",
    "encode = lambda s: [string_to_int[c] for c in s]\n",
    "# Define a function to decode a list of integers back into a string\n",
    "decode = lambda l: ''.join([int_to_string[i] for i in l])\n",
    "# Encode the entire text into a tensor of integers\n",
    "data = torch.tensor(encode(text), dtype=torch.long)"
   ]
  },
  {
   "cell_type": "code",
   "execution_count": 5,
   "metadata": {},
   "outputs": [
    {
     "name": "stdout",
     "output_type": "stream",
     "text": [
      "inputs:\n",
      "tensor([[54, 67,  1, 76, 54, 65, 64, 62],\n",
      "        [71, 58, 54, 73,  1, 60, 65, 54],\n",
      "        [54, 67, 57,  0, 72, 73, 71, 54],\n",
      "        [74, 65, 57,  1, 67, 58, 75, 58]], device='mps:0')\n",
      "targets:\n",
      "tensor([[67,  1, 76, 54, 65, 64, 62, 67],\n",
      "        [58, 54, 73,  1, 60, 65, 54, 72],\n",
      "        [67, 57,  0, 72, 73, 71, 54, 67],\n",
      "        [65, 57,  1, 67, 58, 75, 58, 71]], device='mps:0')\n"
     ]
    }
   ],
   "source": [
    "# Calculate the number of elements that correspond to 80% of the total data length\n",
    "n = int(0.8*len(data))\n",
    "\n",
    "# Split the data into training and validation sets\n",
    "train_data, val_data = data[:n], data[n:]\n",
    "\n",
    "def get_batch(split):\n",
    "    data = train_data if split == \"train\" else val_data\n",
    "    ix = torch.randint(len(data) - block_size, (batch_size, ))\n",
    "    x = torch.stack([data[i:i+block_size] for i in ix])\n",
    "    y = torch.stack([data[i+1:i+block_size+1] for i in ix])\n",
    "    x, y = x.to(device), y.to(device)\n",
    "    return x, y\n",
    "x, y = get_batch('train')\n",
    "print('inputs:')\n",
    "print(x)\n",
    "print('targets:')\n",
    "print(y)"
   ]
  },
  {
   "cell_type": "code",
   "execution_count": 6,
   "metadata": {},
   "outputs": [],
   "source": [
    "@torch.no_grad()\n",
    "def estimate_loss():\n",
    "    out = {}\n",
    "    model.eval()\n",
    "    for split in ['train', 'val']:\n",
    "        losses = torch.zeros(eval_iters)\n",
    "        for k in range(eval_iters):\n",
    "            X, Y = get_batch(split)\n",
    "            logits, loss = model(X, Y)\n",
    "            losses[k] = loss.item()\n",
    "        out[split] = losses.mean()\n",
    "    model.train()\n",
    "    return out"
   ]
  },
  {
   "cell_type": "code",
   "execution_count": 7,
   "metadata": {},
   "outputs": [],
   "source": [
    "# # Set the block size to 8. This is the number of elements to consider at a time from the training data.\n",
    "# block_size = 8\n",
    "\n",
    "# # Split the training data into two parts: 'x' and 'y'. 'x' is the first 'block_size' elements and 'y' is the next 'block_size' elements.\n",
    "# x, y = train_data[:block_size],  train_data[1:block_size+1]\n",
    "\n",
    "# # Loop over the range of block_size\n",
    "# for t in range(block_size):\n",
    "#     # The context is the first 't+1' elements of 'x'\n",
    "#     context = x[:t+1]\n",
    "#     # The target is the 't'-th element of 'y'\n",
    "#     target = y[t]\n",
    "#     # Print the context and target\n",
    "#     print('when input is', context, 'target is', target)"
   ]
  },
  {
   "cell_type": "code",
   "execution_count": 8,
   "metadata": {},
   "outputs": [],
   "source": [
    "class BigramLanguageModel(nn.Module):\n",
    "\n",
    "    def __init__(self, vocab_size):\n",
    "        super().__init__()\n",
    "        self.token_embedding_table = nn.Embedding(vocab_size, vocab_size)\n",
    "\n",
    "    def forward(self, index, targets=None):\n",
    "        logits = self.token_embedding_table(index)\n",
    "\n",
    "        if targets is None:\n",
    "            loss = None\n",
    "\n",
    "        else:\n",
    "            B, T, C = logits.shape\n",
    "            logits = logits.view(B*T, C)\n",
    "            targets = targets.view(B*T)\n",
    "            loss = F.cross_entropy(logits, targets)\n",
    "\n",
    "        return logits, loss\n",
    "    \n",
    "    def generate(self, index, max_new_tokens):\n",
    "        # index is (B, T) array of indices in the current context\n",
    "        for _ in range(max_new_tokens):\n",
    "            # get the predictions\n",
    "            logits, loss = self.forward(index)\n",
    "            # focus only on the last time step\n",
    "            logits = logits[:, -1, :] # becomes (B, C)\n",
    "            # apply softmax to get probabilities\n",
    "            probs = F.softmax(logits, dim=-1) # (B, C)\n",
    "            # sample from the distribution\n",
    "            index_next = torch.multinomial(probs, num_samples=1) # (B, 1)\n",
    "            # append sampled index to the running sequence\n",
    "            index = torch.cat((index, index_next), dim=1) # (B, T+1)\n",
    "\n",
    "        return index"
   ]
  },
  {
   "cell_type": "code",
   "execution_count": 9,
   "metadata": {},
   "outputs": [
    {
     "name": "stdout",
     "output_type": "stream",
     "text": [
      "\n",
      "\"\n",
      "o stthal Buskerthuigrturlllll cargibe o ait w chacitriceamact, tyo thaweme y-pruderenithed oucinvilsw d d watothainve wn Veg'thenoupre Wioule gan ty ha inonetinge I Jinopsesthe\n",
      "\"Nodvourthe terd abafinflitand we thove bialll bem tuly fe OFV*-dr re rd aghey,\"Lan bbu agghoug Gasthemed orangso,\"bllard squpisced Zesaidas nd he?\"N moft bemepore. anth tspa pizaboooind n wll be p asestof I ff r\n",
      "Wht ty here cke he \"Ohad d weme avea telitooundeis oulerersutos frsost\n",
      "ssincivematy d thedfl. bunthy. ougane\n"
     ]
    }
   ],
   "source": [
    "model = BigramLanguageModel(vocab_size) if not os.path.exists(\"wizard_of_oz.pth\") else torch.load(\"wizard_of_oz.pth\")\n",
    "m = model.to(device)\n",
    "\n",
    "context = torch.zeros((1, 1), dtype=torch.long, device=device)\n",
    "generated_chars = decode(m.generate(context, max_new_tokens=500)[0].tolist())\n",
    "print(generated_chars)"
   ]
  },
  {
   "cell_type": "code",
   "execution_count": 10,
   "metadata": {},
   "outputs": [
    {
     "name": "stdout",
     "output_type": "stream",
     "text": [
      "step: 0, train loss: 2.441, val loss: 2.454\n",
      "step: 250, train loss: 2.414, val loss: 2.475\n",
      "step: 500, train loss: 2.426, val loss: 2.460\n",
      "step: 750, train loss: 2.428, val loss: 2.455\n",
      "step: 1000, train loss: 2.434, val loss: 2.490\n",
      "step: 1250, train loss: 2.448, val loss: 2.477\n",
      "step: 1500, train loss: 2.408, val loss: 2.471\n",
      "step: 1750, train loss: 2.434, val loss: 2.474\n",
      "step: 2000, train loss: 2.425, val loss: 2.482\n",
      "step: 2250, train loss: 2.428, val loss: 2.463\n",
      "step: 2500, train loss: 2.424, val loss: 2.489\n",
      "step: 2750, train loss: 2.440, val loss: 2.479\n",
      "step: 3000, train loss: 2.429, val loss: 2.484\n",
      "step: 3250, train loss: 2.429, val loss: 2.492\n",
      "step: 3500, train loss: 2.418, val loss: 2.464\n",
      "step: 3750, train loss: 2.417, val loss: 2.486\n",
      "step: 4000, train loss: 2.427, val loss: 2.493\n",
      "step: 4250, train loss: 2.428, val loss: 2.491\n",
      "step: 4500, train loss: 2.462, val loss: 2.488\n",
      "step: 4750, train loss: 2.423, val loss: 2.457\n",
      "step: 5000, train loss: 2.428, val loss: 2.463\n",
      "step: 5250, train loss: 2.423, val loss: 2.493\n",
      "step: 5500, train loss: 2.414, val loss: 2.460\n",
      "step: 5750, train loss: 2.456, val loss: 2.492\n",
      "step: 6000, train loss: 2.421, val loss: 2.476\n",
      "step: 6250, train loss: 2.459, val loss: 2.451\n",
      "step: 6500, train loss: 2.422, val loss: 2.480\n",
      "step: 6750, train loss: 2.450, val loss: 2.467\n",
      "step: 7000, train loss: 2.410, val loss: 2.479\n",
      "step: 7250, train loss: 2.441, val loss: 2.483\n",
      "step: 7500, train loss: 2.434, val loss: 2.493\n",
      "step: 7750, train loss: 2.412, val loss: 2.495\n",
      "step: 8000, train loss: 2.441, val loss: 2.483\n",
      "step: 8250, train loss: 2.437, val loss: 2.478\n",
      "step: 8500, train loss: 2.411, val loss: 2.470\n",
      "step: 8750, train loss: 2.403, val loss: 2.477\n",
      "step: 9000, train loss: 2.447, val loss: 2.482\n",
      "step: 9250, train loss: 2.440, val loss: 2.483\n",
      "step: 9500, train loss: 2.447, val loss: 2.469\n",
      "step: 9750, train loss: 2.431, val loss: 2.476\n",
      "2.509153366088867\n",
      "CPU times: user 28.4 s, sys: 6.72 s, total: 35.2 s\n",
      "Wall time: 49.6 s\n"
     ]
    }
   ],
   "source": [
    "%%time\n",
    "# Create a PyTorch optimizer\n",
    "optimizer = torch.optim.AdamW(model.parameters(), lr=learning_rate)\n",
    "\n",
    "for iter in range(max_iters):\n",
    "    if iter % eval_iters == 0:\n",
    "        losses = estimate_loss()\n",
    "        print(f\"step: {iter}, train loss: {losses['train']:.3f}, val loss: {losses['val']:.3f}\")\n",
    "\n",
    "    # sample a batch of data\n",
    "    xb, yb = get_batch('train')\n",
    "    # evaluate the loss\n",
    "    logits, loss = model.forward(xb, yb)\n",
    "    optimizer.zero_grad(set_to_none=True)\n",
    "    loss.backward()\n",
    "    optimizer.step()\n",
    "\n",
    "print(loss.item())"
   ]
  },
  {
   "cell_type": "code",
   "execution_count": 11,
   "metadata": {},
   "outputs": [
    {
     "name": "stdout",
     "output_type": "stream",
     "text": [
      "\n",
      "ARGaleckifomingoralemacofrde.\n",
      "\"Ve\n",
      "\n",
      "\n",
      "\n",
      "[. ined. o y Jithe. je s wenklercham. toagghondantofonganlorble ilouler toteraimetil mar w, Hu ingllis s m whe, t, tadithebevespleke lerd. Wie s wanouley.\n",
      "\"Om.\n",
      "\n",
      "in s thenaropef f oouse outerey sid, wecaclif ckeemapling fresthyofawiors y wosisher e boy R[Thutherf ancocedes hr tokifend twe cooowatofimod ylel cer, e sereceve as,\"EWhaneance thee  ber wh. EThethy\n",
      "\n",
      "thet Doo hinged we at icomay u n.\n",
      "wd neal thad ay, t pe Gwiselysthee. hy c af oug s f choror po?\"TR M\n"
     ]
    }
   ],
   "source": [
    "context = torch.zeros((1, 1), dtype=torch.long, device=device)\n",
    "generated_chars = decode(m.generate(context, max_new_tokens=500)[0].tolist())\n",
    "print(generated_chars)"
   ]
  },
  {
   "cell_type": "code",
   "execution_count": null,
   "metadata": {},
   "outputs": [],
   "source": [
    "torch.save(m, \"wizard_of_oz.pth\")"
   ]
  },
  {
   "cell_type": "code",
   "execution_count": null,
   "metadata": {},
   "outputs": [],
   "source": []
  }
 ],
 "metadata": {
  "kernelspec": {
   "display_name": "PranavGPT",
   "language": "python",
   "name": "python3"
  },
  "language_info": {
   "codemirror_mode": {
    "name": "ipython",
    "version": 3
   },
   "file_extension": ".py",
   "mimetype": "text/x-python",
   "name": "python",
   "nbconvert_exporter": "python",
   "pygments_lexer": "ipython3",
   "version": "3.11.6"
  }
 },
 "nbformat": 4,
 "nbformat_minor": 2
}
