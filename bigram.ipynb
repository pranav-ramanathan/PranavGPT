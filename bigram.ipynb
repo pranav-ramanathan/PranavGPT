{
 "cells": [
  {
   "cell_type": "code",
   "execution_count": 1,
   "metadata": {},
   "outputs": [
    {
     "name": "stdout",
     "output_type": "stream",
     "text": [
      "mps\n"
     ]
    }
   ],
   "source": [
    "# Import the PyTorch library\n",
    "import torch\n",
    "\n",
    "# Set the device to 'mps' if CUDA is available, otherwise set it to 'cpu'\n",
    "# 'mps' stands for Metal Performance Shaders, a framework for GPU-accelerated computation on Apple devices\n",
    "# Please note that this requires a version of PyTorch or a library that supports the 'mps' device\n",
    "device = \"mps\" if torch.backends.mps.is_available() else \"cpu\"\n",
    "\n",
    "# Print the device that will be used for computations\n",
    "print(device)"
   ]
  },
  {
   "cell_type": "code",
   "execution_count": 2,
   "metadata": {},
   "outputs": [],
   "source": [
    "block_size = 8\n",
    "batch_size = 4"
   ]
  },
  {
   "cell_type": "code",
   "execution_count": 3,
   "metadata": {},
   "outputs": [],
   "source": [
    "# Open the file 'wizard_of_oz.txt' in read mode with utf-8 encoding\n",
    "with open(\"wizard_of_oz.txt\", 'r', encoding='utf-8') as f:\n",
    "    # Read the entire content of the file into the variable 'text'\n",
    "    text = f.read()\n",
    "\n",
    "# Create a sorted set of unique characters present in the 'text'\n",
    "chars = sorted(set(text))\n",
    "\n",
    "# Calculate the size of the vocabulary, which is the number of unique characters in the 'text'\n",
    "vocabular_size = len(chars)"
   ]
  },
  {
   "cell_type": "code",
   "execution_count": 4,
   "metadata": {},
   "outputs": [
    {
     "data": {
      "text/plain": [
       "tensor([ 1,  1, 28, 39, 42, 39, 44, 32, 49,  1, 25, 38, 28,  1, 44, 32, 29,  1,\n",
       "        47, 33, 50, 25, 42, 28,  1, 33, 38,  1, 39, 50,  0,  0,  1,  1, 26, 49,\n",
       "         0,  0,  1,  1, 36, 11,  1, 30, 42, 25, 38, 35,  1, 26, 25, 45, 37,  0,\n",
       "         0,  1,  1, 25, 45, 44, 32, 39, 42,  1, 39, 30,  1, 44, 32, 29,  1, 47,\n",
       "        33, 50, 25, 42, 28,  1, 39, 30,  1, 39, 50,  9,  1, 44, 32, 29,  1, 36,\n",
       "        25, 38, 28,  1, 39, 30,  1, 39, 50,  9])"
      ]
     },
     "execution_count": 4,
     "metadata": {},
     "output_type": "execute_result"
    }
   ],
   "source": [
    "# Create a dictionary to map each character to a unique integer\n",
    "string_to_int = { ch:i for i, ch in enumerate(chars) }\n",
    "\n",
    "# Create a dictionary to map each integer back to its corresponding character\n",
    "int_to_string = { i:ch for i, ch in enumerate(chars) }\n",
    "\n",
    "# Define a function to encode a string into a list of integers\n",
    "encode = lambda s: [string_to_int[c] for c in s]\n",
    "\n",
    "# Define a function to decode a list of integers back into a string\n",
    "decode = lambda l: ''.join([int_to_string[i] for i in l])\n",
    "\n",
    "# Encode the entire text into a tensor of integers\n",
    "data = torch.tensor(encode(text), dtype=torch.long)\n",
    "\n",
    "# Print the first 100 elements of the encoded data\n",
    "data[:100]"
   ]
  },
  {
   "cell_type": "code",
   "execution_count": 5,
   "metadata": {},
   "outputs": [],
   "source": [
    "# Calculate the number of elements that correspond to 80% of the total data length\n",
    "n = int(0.8*len(data))\n",
    "\n",
    "# Split the data into training and validation sets\n",
    "# The first 'n' elements (80% of the data) are used for training\n",
    "# The remaining elements (20% of the data) are used for validation\n",
    "train_data, val_data = data[:n], data[n:]"
   ]
  },
  {
   "cell_type": "code",
   "execution_count": 6,
   "metadata": {},
   "outputs": [
    {
     "name": "stdout",
     "output_type": "stream",
     "text": [
      "when input is tensor([1]) target is tensor(1)\n",
      "when input is tensor([1, 1]) target is tensor(28)\n",
      "when input is tensor([ 1,  1, 28]) target is tensor(39)\n",
      "when input is tensor([ 1,  1, 28, 39]) target is tensor(42)\n",
      "when input is tensor([ 1,  1, 28, 39, 42]) target is tensor(39)\n",
      "when input is tensor([ 1,  1, 28, 39, 42, 39]) target is tensor(44)\n",
      "when input is tensor([ 1,  1, 28, 39, 42, 39, 44]) target is tensor(32)\n",
      "when input is tensor([ 1,  1, 28, 39, 42, 39, 44, 32]) target is tensor(49)\n"
     ]
    }
   ],
   "source": [
    "# Set the block size to 8. This is the number of elements to consider at a time from the training data.\n",
    "block_size = 8\n",
    "\n",
    "# Split the training data into two parts: 'x' and 'y'. 'x' is the first 'block_size' elements and 'y' is the next 'block_size' elements.\n",
    "x, y = train_data[:block_size],  train_data[1:block_size+1]\n",
    "\n",
    "# Loop over the range of block_size\n",
    "for t in range(block_size):\n",
    "    # The context is the first 't+1' elements of 'x'\n",
    "    context = x[:t+1]\n",
    "    # The target is the 't'-th element of 'y'\n",
    "    target = y[t]\n",
    "    # Print the context and target\n",
    "    print('when input is', context, 'target is', target)"
   ]
  }
 ],
 "metadata": {
  "kernelspec": {
   "display_name": "PranavGPT",
   "language": "python",
   "name": "python3"
  },
  "language_info": {
   "codemirror_mode": {
    "name": "ipython",
    "version": 3
   },
   "file_extension": ".py",
   "mimetype": "text/x-python",
   "name": "python",
   "nbconvert_exporter": "python",
   "pygments_lexer": "ipython3",
   "version": "3.11.6"
  }
 },
 "nbformat": 4,
 "nbformat_minor": 2
}
