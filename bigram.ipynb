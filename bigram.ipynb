{
 "cells": [
  {
   "cell_type": "code",
   "execution_count": 12,
   "metadata": {},
   "outputs": [],
   "source": [
    "# Import the PyTorch library\n",
    "import torch\n",
    "import torch.nn as nn\n",
    "from torch.nn import functional as F"
   ]
  },
  {
   "cell_type": "code",
   "execution_count": 24,
   "metadata": {},
   "outputs": [
    {
     "name": "stdout",
     "output_type": "stream",
     "text": [
      "mps\n"
     ]
    }
   ],
   "source": [
    "# Set the device to 'mps' if CUDA is available, otherwise set it to 'cpu' for using apple silicon\n",
    "device = \"mps\" if torch.backends.mps.is_available() else \"cpu\"\n",
    "# Print the device that will be used for computations\n",
    "print(device)\n",
    "block_size = 8\n",
    "batch_size = 4\n",
    "max_iters = 1000\n",
    "# eval_interval = 2500\n",
    "learning_rate = 3e-4\n",
    "eval_iters = 250\n",
    "# dropout = 0.2"
   ]
  },
  {
   "cell_type": "code",
   "execution_count": 14,
   "metadata": {},
   "outputs": [],
   "source": [
    "# Open the file 'wizard_of_oz.txt' in read mode with utf-8 encoding\n",
    "with open(\"wizard_of_oz.txt\", 'r', encoding='utf-8') as f:\n",
    "    # Read the entire content of the file into the variable 'text'\n",
    "    text = f.read()\n",
    "\n",
    "# Create a sorted set of unique characters present in the 'text'\n",
    "chars = sorted(set(text))\n",
    "\n",
    "# Calculate the size of the vocabulary, which is the number of unique characters in the 'text'\n",
    "vocab_size = len(chars)"
   ]
  },
  {
   "cell_type": "code",
   "execution_count": 15,
   "metadata": {},
   "outputs": [
    {
     "data": {
      "text/plain": [
       "tensor([ 1,  1, 28, 39, 42, 39, 44, 32, 49,  1, 25, 38, 28,  1, 44, 32, 29,  1,\n",
       "        47, 33, 50, 25, 42, 28,  1, 33, 38,  1, 39, 50,  0,  0,  1,  1, 26, 49,\n",
       "         0,  0,  1,  1, 36, 11,  1, 30, 42, 25, 38, 35,  1, 26, 25, 45, 37,  0,\n",
       "         0,  1,  1, 25, 45, 44, 32, 39, 42,  1, 39, 30,  1, 44, 32, 29,  1, 47,\n",
       "        33, 50, 25, 42, 28,  1, 39, 30,  1, 39, 50,  9,  1, 44, 32, 29,  1, 36,\n",
       "        25, 38, 28,  1, 39, 30,  1, 39, 50,  9])"
      ]
     },
     "execution_count": 15,
     "metadata": {},
     "output_type": "execute_result"
    }
   ],
   "source": [
    "# Create a dictionary to map each character to a unique integer\n",
    "string_to_int = { ch:i for i, ch in enumerate(chars) }\n",
    "\n",
    "# Create a dictionary to map each integer back to its corresponding character\n",
    "int_to_string = { i:ch for i, ch in enumerate(chars) }\n",
    "\n",
    "# Define a function to encode a string into a list of integers\n",
    "encode = lambda s: [string_to_int[c] for c in s]\n",
    "\n",
    "# Define a function to decode a list of integers back into a string\n",
    "decode = lambda l: ''.join([int_to_string[i] for i in l])\n",
    "\n",
    "# Encode the entire text into a tensor of integers\n",
    "data = torch.tensor(encode(text), dtype=torch.long)\n",
    "\n",
    "# Print the first 100 elements of the encoded data\n",
    "data[:100]"
   ]
  },
  {
   "cell_type": "code",
   "execution_count": 16,
   "metadata": {},
   "outputs": [
    {
     "name": "stdout",
     "output_type": "stream",
     "text": [
      "inputs:\n",
      "tensor([[65, 78,  1, 59, 68, 71, 66, 58],\n",
      "        [71, 62, 67, 60,  1, 54, 73,  1],\n",
      "        [78,  1, 55, 58, 54, 74, 73, 62],\n",
      "        [73, 68,  1, 72, 68, 66, 58,  1]], device='mps:0')\n",
      "targets:\n",
      "tensor([[78,  1, 59, 68, 71, 66, 58, 57],\n",
      "        [62, 67, 60,  1, 54, 73,  1, 73],\n",
      "        [ 1, 55, 58, 54, 74, 73, 62, 59],\n",
      "        [68,  1, 72, 68, 66, 58,  1, 69]], device='mps:0')\n"
     ]
    }
   ],
   "source": [
    "# Calculate the number of elements that correspond to 80% of the total data length\n",
    "n = int(0.8*len(data))\n",
    "\n",
    "# Split the data into training and validation sets\n",
    "train_data, val_data = data[:n], data[n:]\n",
    "\n",
    "def get_batch(split):\n",
    "    data = train_data if split == \"train\" else val_data\n",
    "    ix = torch.randint(len(data) - block_size, (batch_size, ))\n",
    "    x = torch.stack([data[i:i+block_size] for i in ix])\n",
    "    y = torch.stack([data[i+1:i+block_size+1] for i in ix])\n",
    "    x, y = x.to(device), y.to(device)\n",
    "    return x, y\n",
    "x, y = get_batch('train')\n",
    "print('inputs:')\n",
    "print(x)\n",
    "print('targets:')\n",
    "print(y)"
   ]
  },
  {
   "cell_type": "code",
   "execution_count": 17,
   "metadata": {},
   "outputs": [],
   "source": [
    "@torch.no_grad()\n",
    "def estimate_loss():\n",
    "    out = {}\n",
    "    model.eval()\n",
    "    for split in ['train', 'val']:\n",
    "        losses = torch.zeros(eval_iters)\n",
    "        for k in range(eval_iters):\n",
    "            X, Y = get_batch(split)\n",
    "            logits, loss = model(X, Y)\n",
    "            losses[k] = loss.item()\n",
    "        out[split] = losses.mean()\n",
    "    model.train()\n",
    "    return out"
   ]
  },
  {
   "cell_type": "code",
   "execution_count": 18,
   "metadata": {},
   "outputs": [],
   "source": [
    "# # Set the block size to 8. This is the number of elements to consider at a time from the training data.\n",
    "# block_size = 8\n",
    "\n",
    "# # Split the training data into two parts: 'x' and 'y'. 'x' is the first 'block_size' elements and 'y' is the next 'block_size' elements.\n",
    "# x, y = train_data[:block_size],  train_data[1:block_size+1]\n",
    "\n",
    "# # Loop over the range of block_size\n",
    "# for t in range(block_size):\n",
    "#     # The context is the first 't+1' elements of 'x'\n",
    "#     context = x[:t+1]\n",
    "#     # The target is the 't'-th element of 'y'\n",
    "#     target = y[t]\n",
    "#     # Print the context and target\n",
    "#     print('when input is', context, 'target is', target)"
   ]
  },
  {
   "cell_type": "code",
   "execution_count": 19,
   "metadata": {},
   "outputs": [],
   "source": [
    "class BigramLanguageModel(nn.Module):\n",
    "\n",
    "    def __init__(self, vocab_size):\n",
    "        super().__init__()\n",
    "        self.token_embedding_table = nn.Embedding(vocab_size, vocab_size)\n",
    "\n",
    "    def forward(self, index, targets=None):\n",
    "        logits = self.token_embedding_table(index)\n",
    "\n",
    "        if targets is None:\n",
    "            loss = None\n",
    "\n",
    "        else:\n",
    "            B, T, C = logits.shape\n",
    "            logits = logits.view(B*T, C)\n",
    "            targets = targets.view(B*T)\n",
    "            loss = F.cross_entropy(logits, targets)\n",
    "\n",
    "        return logits, loss\n",
    "    \n",
    "    def generate(self, index, max_new_tokens):\n",
    "        # index is (B, T) array of indices in the current context\n",
    "        for _ in range(max_new_tokens):\n",
    "            # get the predictions\n",
    "            logits, loss = self.forward(index)\n",
    "            # focus only on the last time step\n",
    "            logits = logits[:, -1, :] # becomes (B, C)\n",
    "            # apply softmax to get probabilities\n",
    "            probs = F.softmax(logits, dim=-1) # (B, C)\n",
    "            # sample from the distribution\n",
    "            index_next = torch.multinomial(probs, num_samples=1) # (B, 1)\n",
    "            # append sampled index to the running sequence\n",
    "            index = torch.cat((index, index_next), dim=1) # (B, T+1)\n",
    "\n",
    "        return index"
   ]
  },
  {
   "cell_type": "code",
   "execution_count": 20,
   "metadata": {},
   "outputs": [
    {
     "name": "stdout",
     "output_type": "stream",
     "text": [
      "\n",
      "]YXs]OcE*9un'5\n",
      "7QHoeNy:C1W(-o 2e.-wr4e0Z72GMVdr&)!k..XqE-w.!CCdP(d*R!8jrG5hE] .2Dvj5f.,2'w,Z8_d*zccEZ3 axO*2nMY\"ql0Z6O)4:7)GDQ?qDa* FNXqU8vISUL:1gWmTH*ljOOcPn;8 8.*VhF91bLR1u)G5?OHtyw.HTuNyrywA5m6JHGCHT3Kk.,j\":Cs')wXO8\n",
      "jDaxuY(\"t&hb1(nHj'z1HF&h0RnXUGL6Ql,9uDsdFCsy[,(r5!S)1DdfSCq&xmYHt*5)p;nFSCd[MgeGf4Xo,bMkHEL9'x T]EVT2T[hl;U8jv8d1o3AtSCoMLCsZrprUDaMkSmkiLxLH* KnAqPVhTE7Qob!b?6yD\n",
      "79u)* 79o)YKCI\n",
      "mMBI8GY*!N73;p.Z8BeAvs:l&9rhg97.w2P*SE;2Ye097*T)\"b796qfSi*1()\".q*tLc'xW: 44eVni_r.qd28GrpkAmf7W])iI(FaD\n"
     ]
    }
   ],
   "source": [
    "model = BigramLanguageModel(vocab_size)\n",
    "m = model.to(device)\n",
    "\n",
    "context = torch.zeros((1, 1), dtype=torch.long, device=device)\n",
    "generated_chars = decode(m.generate(context, max_new_tokens=500)[0].tolist())\n",
    "print(generated_chars)"
   ]
  },
  {
   "cell_type": "code",
   "execution_count": 25,
   "metadata": {},
   "outputs": [
    {
     "name": "stdout",
     "output_type": "stream",
     "text": [
      "step: 0, train loss: 2.647, val loss: 2.661\n",
      "step: 250, train loss: 2.640, val loss: 2.655\n",
      "step: 500, train loss: 2.629, val loss: 2.639\n",
      "step: 750, train loss: 2.632, val loss: 2.658\n",
      "2.4078798294067383\n",
      "CPU times: user 1.93 s, sys: 489 ms, total: 2.42 s\n",
      "Wall time: 3.82 s\n"
     ]
    }
   ],
   "source": [
    "%%time\n",
    "# Create a PyTorch optimizer\n",
    "optimizer = torch.optim.AdamW(model.parameters(), lr=learning_rate)\n",
    "\n",
    "for iter in range(max_iters):\n",
    "    if iter % eval_iters == 0:\n",
    "        losses = estimate_loss()\n",
    "        print(f\"step: {iter}, train loss: {losses['train']:.3f}, val loss: {losses['val']:.3f}\")\n",
    "\n",
    "    # sample a batch of data\n",
    "    xb, yb = get_batch('train')\n",
    "    # evaluate the loss\n",
    "    logits, loss = model.forward(xb, yb)\n",
    "    optimizer.zero_grad(set_to_none=True)\n",
    "    loss.backward()\n",
    "    optimizer.step()\n",
    "\n",
    "print(loss.item())"
   ]
  },
  {
   "cell_type": "code",
   "execution_count": null,
   "metadata": {},
   "outputs": [],
   "source": [
    "context = torch.zeros((1, 1), dtype=torch.long, device=device)\n",
    "generated_chars = decode(m.generate(context, max_new_tokens=500)[0].tolist())\n",
    "print(generated_chars)"
   ]
  },
  {
   "cell_type": "code",
   "execution_count": null,
   "metadata": {},
   "outputs": [],
   "source": []
  }
 ],
 "metadata": {
  "kernelspec": {
   "display_name": "PranavGPT",
   "language": "python",
   "name": "python3"
  },
  "language_info": {
   "codemirror_mode": {
    "name": "ipython",
    "version": 3
   },
   "file_extension": ".py",
   "mimetype": "text/x-python",
   "name": "python",
   "nbconvert_exporter": "python",
   "pygments_lexer": "ipython3",
   "version": "3.11.6"
  }
 },
 "nbformat": 4,
 "nbformat_minor": 2
}
