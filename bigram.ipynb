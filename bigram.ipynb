{
 "cells": [
  {
   "cell_type": "code",
   "execution_count": 1,
   "metadata": {},
   "outputs": [],
   "source": [
    "# Import the PyTorch library\n",
    "import torch\n",
    "import torch.nn as nn\n",
    "from torch.nn import functional as F"
   ]
  },
  {
   "cell_type": "code",
   "execution_count": 19,
   "metadata": {},
   "outputs": [
    {
     "name": "stdout",
     "output_type": "stream",
     "text": [
      "mps\n"
     ]
    }
   ],
   "source": [
    "# Set the device to 'mps' if CUDA is available, otherwise set it to 'cpu' for using apple silicon\n",
    "device = \"mps\" if torch.backends.mps.is_available() else \"cpu\"\n",
    "# Print the device that will be used for computations\n",
    "print(device)\n",
    "block_size = 8\n",
    "batch_size = 4\n",
    "max_iters = 10000\n",
    "# eval_interval = 2500\n",
    "learning_rate = 3e-4\n",
    "eval_iters = 250\n",
    "# dropout = 0.2"
   ]
  },
  {
   "cell_type": "code",
   "execution_count": 3,
   "metadata": {},
   "outputs": [],
   "source": [
    "# Open the file 'wizard_of_oz.txt' in read mode with utf-8 encoding\n",
    "with open(\"wizard_of_oz.txt\", 'r', encoding='utf-8') as f:\n",
    "    # Read the entire content of the file into the variable 'text'\n",
    "    text = f.read()\n",
    "\n",
    "# Create a sorted set of unique characters present in the 'text'\n",
    "chars = sorted(set(text))\n",
    "\n",
    "# Calculate the size of the vocabulary, which is the number of unique characters in the 'text'\n",
    "vocab_size = len(chars)"
   ]
  },
  {
   "cell_type": "code",
   "execution_count": 4,
   "metadata": {},
   "outputs": [
    {
     "data": {
      "text/plain": [
       "tensor([ 1,  1, 28, 39, 42, 39, 44, 32, 49,  1, 25, 38, 28,  1, 44, 32, 29,  1,\n",
       "        47, 33, 50, 25, 42, 28,  1, 33, 38,  1, 39, 50,  0,  0,  1,  1, 26, 49,\n",
       "         0,  0,  1,  1, 36, 11,  1, 30, 42, 25, 38, 35,  1, 26, 25, 45, 37,  0,\n",
       "         0,  1,  1, 25, 45, 44, 32, 39, 42,  1, 39, 30,  1, 44, 32, 29,  1, 47,\n",
       "        33, 50, 25, 42, 28,  1, 39, 30,  1, 39, 50,  9,  1, 44, 32, 29,  1, 36,\n",
       "        25, 38, 28,  1, 39, 30,  1, 39, 50,  9])"
      ]
     },
     "execution_count": 4,
     "metadata": {},
     "output_type": "execute_result"
    }
   ],
   "source": [
    "# Create a dictionary to map each character to a unique integer\n",
    "string_to_int = { ch:i for i, ch in enumerate(chars) }\n",
    "\n",
    "# Create a dictionary to map each integer back to its corresponding character\n",
    "int_to_string = { i:ch for i, ch in enumerate(chars) }\n",
    "\n",
    "# Define a function to encode a string into a list of integers\n",
    "encode = lambda s: [string_to_int[c] for c in s]\n",
    "\n",
    "# Define a function to decode a list of integers back into a string\n",
    "decode = lambda l: ''.join([int_to_string[i] for i in l])\n",
    "\n",
    "# Encode the entire text into a tensor of integers\n",
    "data = torch.tensor(encode(text), dtype=torch.long)\n",
    "\n",
    "# Print the first 100 elements of the encoded data\n",
    "data[:100]"
   ]
  },
  {
   "cell_type": "code",
   "execution_count": 5,
   "metadata": {},
   "outputs": [
    {
     "name": "stdout",
     "output_type": "stream",
     "text": [
      "inputs:\n",
      "tensor([[58,  1, 55, 58, 54, 71, 72,  1],\n",
      "        [76, 61, 58, 71, 58,  1, 60, 71],\n",
      "        [ 1, 56, 68, 66, 69, 68, 72, 58],\n",
      "        [66, 62, 65, 64, 24,  3,  1, 54]], device='mps:0')\n",
      "targets:\n",
      "tensor([[ 1, 55, 58, 54, 71, 72,  1, 76],\n",
      "        [61, 58, 71, 58,  1, 60, 71, 58],\n",
      "        [56, 68, 66, 69, 68, 72, 58, 57],\n",
      "        [62, 65, 64, 24,  3,  1, 54, 72]], device='mps:0')\n"
     ]
    }
   ],
   "source": [
    "# Calculate the number of elements that correspond to 80% of the total data length\n",
    "n = int(0.8*len(data))\n",
    "\n",
    "# Split the data into training and validation sets\n",
    "train_data, val_data = data[:n], data[n:]\n",
    "\n",
    "def get_batch(split):\n",
    "    data = train_data if split == \"train\" else val_data\n",
    "    ix = torch.randint(len(data) - block_size, (batch_size, ))\n",
    "    x = torch.stack([data[i:i+block_size] for i in ix])\n",
    "    y = torch.stack([data[i+1:i+block_size+1] for i in ix])\n",
    "    x, y = x.to(device), y.to(device)\n",
    "    return x, y\n",
    "x, y = get_batch('train')\n",
    "print('inputs:')\n",
    "print(x)\n",
    "print('targets:')\n",
    "print(y)"
   ]
  },
  {
   "cell_type": "code",
   "execution_count": 17,
   "metadata": {},
   "outputs": [],
   "source": [
    "@torch.no_grad()\n",
    "def estimate_loss():\n",
    "    out = {}\n",
    "    model.eval()\n",
    "    for split in ['train', 'val']:\n",
    "        losses = torch.zeros(eval_iters)\n",
    "        for k in range(eval_iters):\n",
    "            X, Y = get_batch(split)\n",
    "            logits, loss = model(X, Y)\n",
    "            losses[k] = loss.item()\n",
    "    model.train()\n",
    "    return out"
   ]
  },
  {
   "cell_type": "code",
   "execution_count": 6,
   "metadata": {},
   "outputs": [],
   "source": [
    "# # Set the block size to 8. This is the number of elements to consider at a time from the training data.\n",
    "# block_size = 8\n",
    "\n",
    "# # Split the training data into two parts: 'x' and 'y'. 'x' is the first 'block_size' elements and 'y' is the next 'block_size' elements.\n",
    "# x, y = train_data[:block_size],  train_data[1:block_size+1]\n",
    "\n",
    "# # Loop over the range of block_size\n",
    "# for t in range(block_size):\n",
    "#     # The context is the first 't+1' elements of 'x'\n",
    "#     context = x[:t+1]\n",
    "#     # The target is the 't'-th element of 'y'\n",
    "#     target = y[t]\n",
    "#     # Print the context and target\n",
    "#     print('when input is', context, 'target is', target)"
   ]
  },
  {
   "cell_type": "code",
   "execution_count": 7,
   "metadata": {},
   "outputs": [],
   "source": [
    "class BigramLanguageModel(nn.Module):\n",
    "\n",
    "    def __init__(self, vocab_size):\n",
    "        super().__init__()\n",
    "        self.token_embedding_table = nn.Embedding(vocab_size, vocab_size)\n",
    "\n",
    "    def forward(self, index, targets=None):\n",
    "        logits = self.token_embedding_table(index)\n",
    "\n",
    "        if targets is None:\n",
    "            loss = None\n",
    "\n",
    "        else:\n",
    "            B, T, C = logits.shape\n",
    "            logits = logits.view(B*T, C)\n",
    "            targets = targets.view(B*T)\n",
    "            loss = F.cross_entropy(logits, targets)\n",
    "\n",
    "        return logits, loss\n",
    "    \n",
    "    def generate(self, index, max_new_tokens):\n",
    "        # index is (B, T) array of indices in the current context\n",
    "        for _ in range(max_new_tokens):\n",
    "            # get the predictions\n",
    "            logits, loss = self.forward(index)\n",
    "            # focus only on the last time step\n",
    "            logits = logits[:, -1, :] # becomes (B, C)\n",
    "            # apply softmax to get probabilities\n",
    "            probs = F.softmax(logits, dim=-1) # (B, C)\n",
    "            # sample from the distribution\n",
    "            index_next = torch.multinomial(probs, num_samples=1) # (B, 1)\n",
    "            # append sampled index to the running sequence\n",
    "            index = torch.cat((index, index_next), dim=1) # (B, T+1)\n",
    "\n",
    "        return index"
   ]
  },
  {
   "cell_type": "code",
   "execution_count": 8,
   "metadata": {},
   "outputs": [
    {
     "name": "stdout",
     "output_type": "stream",
     "text": [
      "\n",
      "q9\"JaTWhOUn!4ar\n",
      "Zcpz3E[]tD37A?4iZG&Yb BiRric*45F-Cm4]tk(GA1AQi?jURbRB!b.*wTkh8XWh?G:yy6dTZ1E-xk&dTW3ownkQ5xy5ua&dYxWJLvTgChwXyMrIn9:5]sE:?\"iW(OpjciLjmvK&yb1eGI\"ZQ)1EqBmah&eJ_[WD\n",
      "uN'*gysXq(Od\"Dcb-Ybq;Yb1E-IO_L*KX\n",
      "q1pBsB*Lmavf'2E-'KHqS7sT92fO?V2l6Z1x];Wi\n",
      "L7Cu1RlG3.9?5F1cdsS9Q\"SiWyF3XqmWLx2mvcNCu1iZPlp,H!Q?V[qz*5XJQE(]koFGVnrL3JJB-B\"YeYM)P8_\"oVjbX1]VV2F\n",
      ".wI3gfpdd6c;.eYv*&J(P!dfp_W])_D3!loV-;9P\n",
      "u8P9tfj*PeGIh]g_50?nCc4C P_A.?[_WYDcq)L3MiZ\"(1AW-LvtYHg3o*TLX2G.eLh_bdTC\"7AcX[qfJtgdn_IsBEPS9s!S:?H2nG(\"3I\n"
     ]
    }
   ],
   "source": [
    "model = BigramLanguageModel(vocab_size)\n",
    "m = model.to(device)\n",
    "\n",
    "context = torch.zeros((1, 1), dtype=torch.long, device=device)\n",
    "generated_chars = decode(m.generate(context, max_new_tokens=500)[0].tolist())\n",
    "print(generated_chars)"
   ]
  },
  {
   "cell_type": "code",
   "execution_count": 13,
   "metadata": {},
   "outputs": [
    {
     "name": "stdout",
     "output_type": "stream",
     "text": [
      "2.5752720832824707\n",
      "CPU times: user 16.5 s, sys: 1.99 s, total: 18.5 s\n",
      "Wall time: 26.2 s\n"
     ]
    }
   ],
   "source": [
    "%%time\n",
    "# Create a PyTorch optimizer\n",
    "optimizer = torch.optim.AdamW(model.parameters(), lr=learning_rate)\n",
    "\n",
    "for iter in range(max_iters):\n",
    "    if iter % eval_iters == 0:\n",
    "        print(f'step: {iter}, loss: {losses}')\n",
    "\n",
    "    # sample a batch of data\n",
    "    xb, yb = get_batch('train')\n",
    "    # evaluate the loss\n",
    "    logits, loss = model.forward(xb, yb)\n",
    "    optimizer.zero_grad(set_to_none=True)\n",
    "    loss.backward()\n",
    "    optimizer.step()\n",
    "\n",
    "print(loss.item())"
   ]
  },
  {
   "cell_type": "code",
   "execution_count": 14,
   "metadata": {},
   "outputs": [
    {
     "name": "stdout",
     "output_type": "stream",
     "text": [
      "\n",
      "\n",
      "gupr GI brste d kthngit  thaing omenduge kereghase ore Bgs, d th.\" alen 4Her  ly cend thek-SThillithiggoyo henoroofove adosaly the\n",
      "an Dflsun:IXlantess tiethere  1tl anige apind  I  I per sthengashe.\n",
      "tharin iditthyea?\n",
      "\"Do omeys Dm heblires piefoureareoplm gr toumo l h,\"I henolds?\"YURCUPXQowofl tonginy frser, t ursugogs kn.\n",
      "\n",
      "peanfoilivaty I it othit  heat y thexVan t y,\" uton veswas  hinchada'venowe\n",
      "w itad Ze  bo clly nd apin ne\n",
      "Of velabeand. tio ousclly mee he, thea Ite K, usthorybiza Euple tofa\n"
     ]
    }
   ],
   "source": [
    "context = torch.zeros((1, 1), dtype=torch.long, device=device)\n",
    "generated_chars = decode(m.generate(context, max_new_tokens=500)[0].tolist())\n",
    "print(generated_chars)"
   ]
  },
  {
   "cell_type": "code",
   "execution_count": null,
   "metadata": {},
   "outputs": [],
   "source": []
  }
 ],
 "metadata": {
  "kernelspec": {
   "display_name": "PranavGPT",
   "language": "python",
   "name": "python3"
  },
  "language_info": {
   "codemirror_mode": {
    "name": "ipython",
    "version": 3
   },
   "file_extension": ".py",
   "mimetype": "text/x-python",
   "name": "python",
   "nbconvert_exporter": "python",
   "pygments_lexer": "ipython3",
   "version": "3.11.6"
  }
 },
 "nbformat": 4,
 "nbformat_minor": 2
}
