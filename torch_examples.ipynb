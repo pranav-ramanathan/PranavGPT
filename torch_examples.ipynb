{
 "cells": [
  {
   "cell_type": "code",
   "execution_count": 1,
   "metadata": {},
   "outputs": [],
   "source": [
    "import torch\n",
    "import time\n",
    "import numpy as np\n",
    "import torch.nn as nn\n",
    "from torch.nn import functional as F\n",
    "device = \"mps\" if torch.backends.mps.is_available() else \"cpu\""
   ]
  },
  {
   "cell_type": "code",
   "execution_count": 2,
   "metadata": {},
   "outputs": [
    {
     "data": {
      "text/plain": [
       "tensor([ 28,  27,  55,  12,  21, -39])"
      ]
     },
     "execution_count": 2,
     "metadata": {},
     "output_type": "execute_result"
    }
   ],
   "source": [
    "randint = torch.randint(-100, 100, (6,))\n",
    "randint"
   ]
  },
  {
   "cell_type": "code",
   "execution_count": 3,
   "metadata": {},
   "outputs": [
    {
     "data": {
      "text/plain": [
       "tensor([[0.1000, 1.2000],\n",
       "        [0.2000, 2.4000],\n",
       "        [0.3000, 3.6000]])"
      ]
     },
     "execution_count": 3,
     "metadata": {},
     "output_type": "execute_result"
    }
   ],
   "source": [
    "tensor = torch.tensor([[0.1, 1.2], [0.2, 2.4], [0.3, 3.6]])\n",
    "tensor"
   ]
  },
  {
   "cell_type": "code",
   "execution_count": 4,
   "metadata": {},
   "outputs": [
    {
     "data": {
      "text/plain": [
       "tensor([[0., 0., 0.],\n",
       "        [0., 0., 0.]])"
      ]
     },
     "execution_count": 4,
     "metadata": {},
     "output_type": "execute_result"
    }
   ],
   "source": [
    "zeros = torch.zeros(2,3)\n",
    "zeros"
   ]
  },
  {
   "cell_type": "code",
   "execution_count": 5,
   "metadata": {},
   "outputs": [
    {
     "data": {
      "text/plain": [
       "tensor([[1., 1., 1., 1.],\n",
       "        [1., 1., 1., 1.],\n",
       "        [1., 1., 1., 1.]])"
      ]
     },
     "execution_count": 5,
     "metadata": {},
     "output_type": "execute_result"
    }
   ],
   "source": [
    "ones = torch.ones(3, 4)\n",
    "ones"
   ]
  },
  {
   "cell_type": "code",
   "execution_count": 6,
   "metadata": {},
   "outputs": [
    {
     "data": {
      "text/plain": [
       "tensor([[0., 0., 0.],\n",
       "        [0., 0., 0.]])"
      ]
     },
     "execution_count": 6,
     "metadata": {},
     "output_type": "execute_result"
    }
   ],
   "source": [
    "input = torch.empty(2,3)\n",
    "input"
   ]
  },
  {
   "cell_type": "code",
   "execution_count": 7,
   "metadata": {},
   "outputs": [
    {
     "data": {
      "text/plain": [
       "tensor([5, 4, 3, 2, 1])"
      ]
     },
     "execution_count": 7,
     "metadata": {},
     "output_type": "execute_result"
    }
   ],
   "source": [
    "arange = torch.arange(5, 0, -1)\n",
    "arange"
   ]
  },
  {
   "cell_type": "code",
   "execution_count": 8,
   "metadata": {},
   "outputs": [
    {
     "data": {
      "text/plain": [
       "tensor([ 3.0000,  4.7500,  6.5000,  8.2500, 10.0000])"
      ]
     },
     "execution_count": 8,
     "metadata": {},
     "output_type": "execute_result"
    }
   ],
   "source": [
    "linspace = torch.linspace(3, 10, steps=5)\n",
    "linspace"
   ]
  },
  {
   "cell_type": "code",
   "execution_count": 9,
   "metadata": {},
   "outputs": [
    {
     "data": {
      "text/plain": [
       "tensor([1.0000e-10, 1.0000e-05, 1.0000e+00, 1.0000e+05, 1.0000e+10])"
      ]
     },
     "execution_count": 9,
     "metadata": {},
     "output_type": "execute_result"
    }
   ],
   "source": [
    "logspace = torch.logspace(start=-10, end=10, steps=5)\n",
    "logspace"
   ]
  },
  {
   "cell_type": "code",
   "execution_count": 10,
   "metadata": {},
   "outputs": [
    {
     "data": {
      "text/plain": [
       "tensor([[1., 0., 0., 0., 0.],\n",
       "        [0., 1., 0., 0., 0.],\n",
       "        [0., 0., 1., 0., 0.],\n",
       "        [0., 0., 0., 1., 0.],\n",
       "        [0., 0., 0., 0., 1.]])"
      ]
     },
     "execution_count": 10,
     "metadata": {},
     "output_type": "execute_result"
    }
   ],
   "source": [
    "eye = torch.eye(5)\n",
    "eye"
   ]
  },
  {
   "cell_type": "code",
   "execution_count": 11,
   "metadata": {},
   "outputs": [
    {
     "data": {
      "text/plain": [
       "tensor([[0, 0, 0],\n",
       "        [0, 0, 0]])"
      ]
     },
     "execution_count": 11,
     "metadata": {},
     "output_type": "execute_result"
    }
   ],
   "source": [
    "a = torch.empty((2, 3), dtype=torch.int64)\n",
    "empty_like = torch.empty_like(a)\n",
    "empty_like"
   ]
  },
  {
   "cell_type": "code",
   "execution_count": 12,
   "metadata": {},
   "outputs": [
    {
     "name": "stdout",
     "output_type": "stream",
     "text": [
      "CPU times: user 93 µs, sys: 23 µs, total: 116 µs\n",
      "Wall time: 115 µs\n"
     ]
    },
    {
     "data": {
      "text/plain": [
       "'0.00006676'"
      ]
     },
     "execution_count": 12,
     "metadata": {},
     "output_type": "execute_result"
    }
   ],
   "source": [
    "%%time\n",
    "start_time = time.time()\n",
    "# matrix operations here\n",
    "zeros = torch.zeros(1,1)\n",
    "end_time = time.time()\n",
    "\n",
    "elapsed_time = end_time - start_time\n",
    "f\"{elapsed_time:.8f}\""
   ]
  },
  {
   "cell_type": "code",
   "execution_count": 13,
   "metadata": {},
   "outputs": [
    {
     "name": "stdout",
     "output_type": "stream",
     "text": [
      "Time elapsed for matrix multiplication in PyTorch (on GPU): 0.24031997 seconds\n",
      "Time elapsed for element-wise multiplication in NumPy (on CPU): 0.06417990 seconds\n"
     ]
    }
   ],
   "source": [
    "# Creating 4-dimensional tensors with random values using PyTorch and moving them to the GPU (if available)\n",
    "torch_rand1 = torch.rand(100, 100, 100, 100).to(device)\n",
    "torch_rand2 = torch.rand(100, 100, 100, 100).to(device)\n",
    "\n",
    "# Creating 4-dimensional arrays with random values using NumPy (which will be processed on CPU)\n",
    "np_rand1 = torch.rand(100, 100, 100, 100)\n",
    "np_rand2 = torch.rand(100, 100, 100, 100)\n",
    "\n",
    "# Recording the start time for PyTorch operation\n",
    "start_time = time.time()\n",
    "\n",
    "# Performing matrix multiplication on the PyTorch tensors (on GPU)\n",
    "rand = (torch_rand1 @ torch_rand2)\n",
    "\n",
    "# Recording the end time for PyTorch operation\n",
    "end_time = time.time()\n",
    "\n",
    "# Calculating and printing the elapsed time for the PyTorch operation (on GPU)\n",
    "elapsed_time = end_time - start_time\n",
    "print(f\"Time elapsed for matrix multiplication in PyTorch (on GPU): {elapsed_time:.8f} seconds\")\n",
    "\n",
    "# Recording the start time for NumPy operation\n",
    "start_time = time.time()\n",
    "\n",
    "# Performing element-wise multiplication on the NumPy arrays (on CPU)\n",
    "rand = np.multiply(np_rand1, np_rand2)\n",
    "\n",
    "# Recording the end time for NumPy operation\n",
    "end_time = time.time()\n",
    "\n",
    "# Calculating and printing the elapsed time for the NumPy operation (on CPU)\n",
    "elapsed_time = end_time - start_time\n",
    "print(f\"Time elapsed for element-wise multiplication in NumPy (on CPU): {elapsed_time:.8f} seconds\")"
   ]
  },
  {
   "cell_type": "code",
   "execution_count": 14,
   "metadata": {},
   "outputs": [
    {
     "name": "stdout",
     "output_type": "stream",
     "text": [
      "tensor([1, 1, 1, 0, 1, 1, 1, 1, 1, 1])\n"
     ]
    }
   ],
   "source": [
    "# Define a probability tensor\n",
    "probabilities = torch.tensor([0.1, 0.9])\n",
    "# 10% or 0.1 => 0, 90% or 0.9 => 1. each probability points to the index of the probability in the tensor\n",
    "# Draw 5 samples from the multinomial distribution\n",
    "samples = torch.multinomial(probabilities, num_samples=10, replacement=True)\n",
    "print(samples)"
   ]
  },
  {
   "cell_type": "code",
   "execution_count": 15,
   "metadata": {},
   "outputs": [
    {
     "data": {
      "text/plain": [
       "tensor([1, 2, 3, 4, 5])"
      ]
     },
     "execution_count": 15,
     "metadata": {},
     "output_type": "execute_result"
    }
   ],
   "source": [
    "tensor = torch.tensor([i for i in range(1,5)])\n",
    "out = torch.cat((tensor, torch.tensor([5])), dim=0)\n",
    "out"
   ]
  },
  {
   "cell_type": "code",
   "execution_count": 16,
   "metadata": {},
   "outputs": [
    {
     "data": {
      "text/plain": [
       "tensor([[1., 0., 0., 0., 0.],\n",
       "        [1., 1., 0., 0., 0.],\n",
       "        [1., 1., 1., 0., 0.],\n",
       "        [1., 1., 1., 1., 0.],\n",
       "        [1., 1., 1., 1., 1.]])"
      ]
     },
     "execution_count": 16,
     "metadata": {},
     "output_type": "execute_result"
    }
   ],
   "source": [
    "out = torch.tril(torch.ones(5, 5))\n",
    "out"
   ]
  },
  {
   "cell_type": "code",
   "execution_count": 17,
   "metadata": {},
   "outputs": [
    {
     "data": {
      "text/plain": [
       "tensor([[1., 1., 1., 1., 1.],\n",
       "        [0., 1., 1., 1., 1.],\n",
       "        [0., 0., 1., 1., 1.],\n",
       "        [0., 0., 0., 1., 1.],\n",
       "        [0., 0., 0., 0., 1.]])"
      ]
     },
     "execution_count": 17,
     "metadata": {},
     "output_type": "execute_result"
    }
   ],
   "source": [
    "out = torch.triu(torch.ones(5, 5))\n",
    "out"
   ]
  },
  {
   "cell_type": "code",
   "execution_count": 18,
   "metadata": {},
   "outputs": [
    {
     "data": {
      "text/plain": [
       "tensor([[0., -inf, -inf, -inf, -inf],\n",
       "        [0., 0., -inf, -inf, -inf],\n",
       "        [0., 0., 0., -inf, -inf],\n",
       "        [0., 0., 0., 0., -inf],\n",
       "        [0., 0., 0., 0., 0.]])"
      ]
     },
     "execution_count": 18,
     "metadata": {},
     "output_type": "execute_result"
    }
   ],
   "source": [
    "out = torch.zeros(5, 5).masked_fill(torch.tril(torch.ones(5,5)) == 0, float('-inf'))\n",
    "out"
   ]
  },
  {
   "cell_type": "code",
   "execution_count": 19,
   "metadata": {},
   "outputs": [
    {
     "data": {
      "text/plain": [
       "tensor([[1., 0., 0., 0., 0.],\n",
       "        [1., 1., 0., 0., 0.],\n",
       "        [1., 1., 1., 0., 0.],\n",
       "        [1., 1., 1., 1., 0.],\n",
       "        [1., 1., 1., 1., 1.]])"
      ]
     },
     "execution_count": 19,
     "metadata": {},
     "output_type": "execute_result"
    }
   ],
   "source": [
    "torch.exp(out)"
   ]
  },
  {
   "cell_type": "code",
   "execution_count": 20,
   "metadata": {},
   "outputs": [
    {
     "data": {
      "text/plain": [
       "torch.Size([4, 3, 2])"
      ]
     },
     "execution_count": 20,
     "metadata": {},
     "output_type": "execute_result"
    }
   ],
   "source": [
    "input = torch.zeros(2, 3, 4)\n",
    "out = input.transpose(0,2)\n",
    "out.shape"
   ]
  },
  {
   "cell_type": "code",
   "execution_count": 21,
   "metadata": {},
   "outputs": [
    {
     "data": {
      "text/plain": [
       "tensor([[1, 2, 3],\n",
       "        [4, 5, 6],\n",
       "        [7, 8, 9]])"
      ]
     },
     "execution_count": 21,
     "metadata": {},
     "output_type": "execute_result"
    }
   ],
   "source": [
    "tensor1 = torch.tensor([1,2, 3])\n",
    "tensor2 = torch.tensor([4, 5, 6])\n",
    "tensor3 = torch.tensor([7, 8, 9])\n",
    "\n",
    "# Stack the tensors along a new dimension\n",
    "stacked_tensor = torch.stack([tensor1, tensor2, tensor3])\n",
    "stacked_tensor"
   ]
  },
  {
   "cell_type": "code",
   "execution_count": 22,
   "metadata": {},
   "outputs": [
    {
     "data": {
      "text/plain": [
       "tensor([-7.7188, -3.0890, -9.0590], grad_fn=<SqueezeBackward4>)"
      ]
     },
     "execution_count": 22,
     "metadata": {},
     "output_type": "execute_result"
    }
   ],
   "source": [
    "sample = torch.tensor([10., 10., 10.])\n",
    "linear = nn.Linear(3, 3, bias=False)\n",
    "linear(sample)"
   ]
  },
  {
   "cell_type": "code",
   "execution_count": 23,
   "metadata": {},
   "outputs": [
    {
     "data": {
      "text/plain": [
       "tensor([0.0900, 0.2447, 0.6652])"
      ]
     },
     "execution_count": 23,
     "metadata": {},
     "output_type": "execute_result"
    }
   ],
   "source": [
    "tensor1 = torch.tensor([1.0, 2.0, 3.0])\n",
    "\n",
    "# Apply softmax using torch.nn.functional.softmax()\n",
    "\n",
    "softmax_output = F.softmax(tensor1, dim=0)\n",
    "softmax_output"
   ]
  },
  {
   "cell_type": "code",
   "execution_count": 24,
   "metadata": {},
   "outputs": [
    {
     "name": "stdout",
     "output_type": "stream",
     "text": [
      "torch.Size([4, 6])\n",
      "tensor([[-1.0139, -0.7598, -0.2625, -0.8895, -1.4543, -0.0653],\n",
      "        [ 1.6604, -0.5045, -0.2390,  0.5943,  0.1224,  0.1695],\n",
      "        [ 0.4318, -0.6426, -1.2963, -0.1137, -0.5726,  0.5643],\n",
      "        [-1.2703, -0.2399, -0.7055, -1.0866,  0.8410,  0.4732]],\n",
      "       grad_fn=<EmbeddingBackward0>)\n"
     ]
    }
   ],
   "source": [
    "# Initialize an embedding layer\n",
    "vocab_size = 80\n",
    "embedding_dim = 6\n",
    "embedding = nn.Embedding(vocab_size, embedding_dim)\n",
    "\n",
    "# Create some input indices\n",
    "input_indices = torch.LongTensor([1, 5, 3, 2])\n",
    "\n",
    "# Apply the embedding layer\n",
    "embedded_output = embedding(input_indices)\n",
    "\n",
    "# The output will be a tensor of shape (4, 100), where 4 is the number of inputs\n",
    "# and 100 is the dimensionality of the embedding vectors\n",
    "print(embedded_output.shape)\n",
    "print(embedded_output)"
   ]
  },
  {
   "cell_type": "code",
   "execution_count": 25,
   "metadata": {},
   "outputs": [
    {
     "name": "stdout",
     "output_type": "stream",
     "text": [
      "tensor([[ 27,  30,  33],\n",
      "        [ 61,  68,  75],\n",
      "        [ 95, 106, 117]])\n"
     ]
    },
    {
     "data": {
      "text/plain": [
       "tensor([[ 27,  30,  33],\n",
       "        [ 61,  68,  75],\n",
       "        [ 95, 106, 117]])"
      ]
     },
     "execution_count": 25,
     "metadata": {},
     "output_type": "execute_result"
    }
   ],
   "source": [
    "a = torch.tensor([[1,2],[3,4],[5,6]])\n",
    "b = torch.tensor([[7,8,9],[10,11,12]])\n",
    "print(a @ b)\n",
    "torch.matmul(a, b)"
   ]
  },
  {
   "cell_type": "code",
   "execution_count": 26,
   "metadata": {},
   "outputs": [
    {
     "name": "stdout",
     "output_type": "stream",
     "text": [
      "tensor([[0., 0., 0.],\n",
      "        [0., 0., 0.],\n",
      "        [0., 0., 0.]])\n"
     ]
    }
   ],
   "source": [
    "int_64 = torch.randint(1, (3, 2)).float()\n",
    "#type int64\n",
    "float_32 = torch.rand(2,3)\n",
    "#type float32\n",
    "# print(int_64.dtype, float_32.dtype)\n",
    "result = torch.matmul(int_64, float_32)\n",
    "print(result)"
   ]
  },
  {
   "cell_type": "code",
   "execution_count": 27,
   "metadata": {},
   "outputs": [
    {
     "name": "stdout",
     "output_type": "stream",
     "text": [
      "torch.Size([2, 3, 5])\n",
      "2 3 5\n",
      "torch.Size([2, 3, 5])\n"
     ]
    }
   ],
   "source": [
    "a = torch.rand(2, 3, 5)\n",
    "print(a.shape)\n",
    "x, y, z = a.shape\n",
    "a = a.view(x, y, z)\n",
    "print(x, y, z)\n",
    "print(a.shape)"
   ]
  },
  {
   "cell_type": "code",
   "execution_count": 29,
   "metadata": {},
   "outputs": [
    {
     "name": "stdout",
     "output_type": "stream",
     "text": [
      "tensor([[0.8892, 0.8029, 0.1223, 0.5366, 0.6287, 0.5056, 0.0818, 0.4684, 0.4939,\n",
      "         0.6717],\n",
      "        [0.6018, 0.8644, 0.2913, 0.1024, 0.9553, 0.0642, 0.6773, 0.4367, 0.1611,\n",
      "         0.3566],\n",
      "        [0.7605, 0.4782, 0.0895, 0.6823, 0.3223, 0.7513, 0.1786, 0.4007, 0.8553,\n",
      "         0.8619],\n",
      "        [0.8324, 0.5864, 0.1560, 0.2860, 0.1532, 0.3100, 0.4418, 0.6924, 0.9610,\n",
      "         0.6388],\n",
      "        [0.9194, 0.6265, 0.2697, 0.1950, 0.6156, 0.8504, 0.5275, 0.0667, 0.2289,\n",
      "         0.7629],\n",
      "        [0.3615, 0.9601, 0.1102, 0.9120, 0.2369, 0.6282, 0.1782, 0.3555, 0.0054,\n",
      "         0.9023],\n",
      "        [0.9911, 0.7474, 0.8178, 0.7834, 0.1543, 0.9319, 0.1335, 0.2472, 0.2095,\n",
      "         0.9135],\n",
      "        [0.3333, 0.5584, 0.9322, 0.3099, 0.1152, 0.7318, 0.3519, 0.5298, 0.2700,\n",
      "         0.3501],\n",
      "        [0.6543, 0.2202, 0.3062, 0.2408, 0.4184, 0.4250, 0.8027, 0.6229, 0.7700,\n",
      "         0.5117],\n",
      "        [0.7494, 0.3114, 0.7774, 0.6869, 0.9152, 0.9405, 0.2975, 0.8729, 0.1269,\n",
      "         0.2312],\n",
      "        [0.3160, 0.7428, 0.2728, 0.8821, 0.6879, 0.5827, 0.1540, 0.2600, 0.2337,\n",
      "         0.1173],\n",
      "        [0.5675, 0.8820, 0.8228, 0.6287, 0.1640, 0.9995, 0.0262, 0.0583, 0.9097,\n",
      "         0.5725],\n",
      "        [0.6085, 0.5203, 0.2431, 0.7552, 0.9769, 0.1019, 0.7138, 0.0944, 0.3323,\n",
      "         0.7787],\n",
      "        [0.0122, 0.4605, 0.4627, 0.5613, 0.8780, 0.7042, 0.4725, 0.6561, 0.8366,\n",
      "         0.2334],\n",
      "        [0.1342, 0.6668, 0.7077, 0.1224, 0.0228, 0.1822, 0.1471, 0.2689, 0.8398,\n",
      "         0.6067],\n",
      "        [0.2796, 0.0075, 0.7785, 0.8301, 0.6894, 0.8059, 0.4807, 0.6606, 0.4479,\n",
      "         0.0683],\n",
      "        [0.6771, 0.5607, 0.9318, 0.3537, 0.5924, 0.5626, 0.5823, 0.2137, 0.2164,\n",
      "         0.8085],\n",
      "        [0.7500, 0.1320, 0.9027, 0.8278, 0.1620, 0.5778, 0.4546, 0.4991, 0.9502,\n",
      "         0.8178],\n",
      "        [0.9099, 0.0496, 0.7860, 0.0869, 0.0584, 0.4735, 0.8734, 0.0620, 0.3384,\n",
      "         0.4613],\n",
      "        [0.3216, 0.3978, 0.6038, 0.3503, 0.2670, 0.4510, 0.5922, 0.8720, 0.8440,\n",
      "         0.3412],\n",
      "        [0.1232, 0.8646, 0.1395, 0.8553, 0.6448, 0.5217, 0.4597, 0.6698, 0.6409,\n",
      "         0.1996],\n",
      "        [0.8907, 0.0563, 0.9937, 0.8357, 0.2001, 0.6587, 0.0402, 0.3447, 0.4301,\n",
      "         0.1402],\n",
      "        [0.2307, 0.1108, 0.1665, 0.7150, 0.1865, 0.4069, 0.9313, 0.4890, 0.6101,\n",
      "         0.3149],\n",
      "        [0.4982, 0.5062, 0.0108, 0.0146, 0.8543, 0.7940, 0.9301, 0.4505, 0.4115,\n",
      "         0.9123],\n",
      "        [0.9635, 0.4850, 0.1926, 0.6244, 0.7574, 0.1467, 0.2807, 0.9281, 0.1562,\n",
      "         0.1944],\n",
      "        [0.1651, 0.6824, 0.3801, 0.5061, 0.3856, 0.1601, 0.9849, 0.1010, 0.3609,\n",
      "         0.1772],\n",
      "        [0.6147, 0.6324, 0.1000, 0.9906, 0.5751, 0.0703, 0.8005, 0.8485, 0.1115,\n",
      "         0.4147],\n",
      "        [0.3397, 0.1670, 0.1612, 0.6428, 0.4736, 0.4110, 0.8867, 0.5937, 0.6685,\n",
      "         0.5209],\n",
      "        [0.6083, 0.6313, 0.0572, 0.8757, 0.1703, 0.6181, 0.7385, 0.2956, 0.9699,\n",
      "         0.5976],\n",
      "        [0.5221, 0.0203, 0.6039, 0.0572, 0.3816, 0.0453, 0.1431, 0.3771, 0.4113,\n",
      "         0.8350],\n",
      "        [0.8022, 0.4316, 0.0255, 0.8934, 0.7444, 0.2717, 0.8059, 0.1857, 0.2176,\n",
      "         0.6088],\n",
      "        [0.8262, 0.4998, 0.0228, 0.3302, 0.6164, 0.2003, 0.8784, 0.5905, 0.9661,\n",
      "         0.1841]])\n",
      "tensor([0.6717, 0.3566, 0.8619, 0.6388, 0.7629, 0.9023, 0.9135, 0.3501, 0.5117,\n",
      "        0.2312, 0.1173, 0.5725, 0.7787, 0.2334, 0.6067, 0.0683, 0.8085, 0.8178,\n",
      "        0.4613, 0.3412, 0.1996, 0.1402, 0.3149, 0.9123, 0.1944, 0.1772, 0.4147,\n",
      "        0.5209, 0.5976, 0.8350, 0.6088, 0.1841])\n"
     ]
    }
   ],
   "source": [
    "input = torch.rand((4, 8, 10))\n",
    "B, T, C = input.shape\n",
    "output = input.view(B*T, C)\n",
    "print(output)\n",
    "print(output[:, -1])"
   ]
  },
  {
   "cell_type": "code",
   "execution_count": 33,
   "metadata": {},
   "outputs": [
    {
     "name": "stdout",
     "output_type": "stream",
     "text": [
      "tensor([1.])\n"
     ]
    }
   ],
   "source": [
    "x = torch.tensor([10], dtype=torch.float32)\n",
    "y = F.tanh(x)\n",
    "print(y)"
   ]
  },
  {
   "cell_type": "code",
   "execution_count": null,
   "metadata": {},
   "outputs": [],
   "source": []
  }
 ],
 "metadata": {
  "kernelspec": {
   "display_name": "PranavGPT",
   "language": "python",
   "name": "python3"
  },
  "language_info": {
   "codemirror_mode": {
    "name": "ipython",
    "version": 3
   },
   "file_extension": ".py",
   "mimetype": "text/x-python",
   "name": "python",
   "nbconvert_exporter": "python",
   "pygments_lexer": "ipython3",
   "version": "3.11.6"
  }
 },
 "nbformat": 4,
 "nbformat_minor": 2
}
