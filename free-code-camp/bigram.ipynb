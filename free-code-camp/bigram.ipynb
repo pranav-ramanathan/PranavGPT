{
 "cells": [
  {
   "cell_type": "code",
   "execution_count": 1,
   "metadata": {},
   "outputs": [],
   "source": [
    "# Imports\n",
    "import torch\n",
    "import torch.nn as nn\n",
    "from torch.nn import functional as F\n",
    "import os"
   ]
  },
  {
   "cell_type": "code",
   "execution_count": 2,
   "metadata": {},
   "outputs": [
    {
     "name": "stdout",
     "output_type": "stream",
     "text": [
      "mps\n"
     ]
    }
   ],
   "source": [
    "# Set the device to 'mps' if CUDA is available, otherwise set it to 'cpu' for using apple silicon\n",
    "device = \"mps\" if torch.backends.mps.is_available() else \"cpu\"\n",
    "# Print the device that will be used for computations\n",
    "print(device)\n",
    "block_size = 8\n",
    "batch_size = 4\n",
    "max_iters = 10000\n",
    "# eval_interval = 2500\n",
    "learning_rate = 3e-4\n",
    "eval_iters = 250\n",
    "# dropout = 0.2"
   ]
  },
  {
   "cell_type": "code",
   "execution_count": 3,
   "metadata": {},
   "outputs": [],
   "source": [
    "# Open the file 'wizard_of_oz.txt' in read mode with utf-8 encoding\n",
    "with open(\"wizard_of_oz.txt\", 'r', encoding='utf-8') as f:\n",
    "    # Read the entire content of the file into the variable 'text'\n",
    "    text = f.read()\n",
    "\n",
    "# Create a sorted set of unique characters present in the 'text'\n",
    "chars = sorted(set(text))\n",
    "\n",
    "# Calculate the size of the vocabulary, which is the number of unique characters in the 'text'\n",
    "vocab_size = len(chars)"
   ]
  },
  {
   "cell_type": "code",
   "execution_count": 4,
   "metadata": {},
   "outputs": [],
   "source": [
    "# Create a dictionary to map each character to a unique integer\n",
    "string_to_int = { ch:i for i, ch in enumerate(chars) }\n",
    "# Create a dictionary to map each integer back to its corresponding character\n",
    "int_to_string = { i:ch for i, ch in enumerate(chars) }\n",
    "# Define a function to encode a string into a list of integers\n",
    "encode = lambda s: [string_to_int[c] for c in s]\n",
    "# Define a function to decode a list of integers back into a string\n",
    "decode = lambda l: ''.join([int_to_string[i] for i in l])\n",
    "# Encode the entire text into a tensor of integers\n",
    "data = torch.tensor(encode(text), dtype=torch.long)"
   ]
  },
  {
   "cell_type": "code",
   "execution_count": 5,
   "metadata": {},
   "outputs": [
    {
     "name": "stdout",
     "output_type": "stream",
     "text": [
      "inputs:\n",
      "tensor([[58,  1, 73, 74, 60, 72,  9,  1],\n",
      "        [72, 58, 57,  1, 68, 67, 58,  1],\n",
      "        [56, 65, 62, 66, 55, 58, 57,  1],\n",
      "        [54, 67, 54, 60, 58, 57,  9,  1]], device='mps:0')\n",
      "targets:\n",
      "tensor([[ 1, 73, 74, 60, 72,  9,  1, 50],\n",
      "        [58, 57,  1, 68, 67, 58,  1, 68],\n",
      "        [65, 62, 66, 55, 58, 57,  1, 62],\n",
      "        [67, 54, 60, 58, 57,  9,  1, 55]], device='mps:0')\n"
     ]
    }
   ],
   "source": [
    "# Calculate the number of elements that correspond to 80% of the total data length\n",
    "n = int(0.8*len(data))\n",
    "\n",
    "# Split the data into training and validation sets\n",
    "train_data, val_data = data[:n], data[n:]\n",
    "\n",
    "def get_batch(split):\n",
    "    data = train_data if split == \"train\" else val_data\n",
    "    ix = torch.randint(len(data) - block_size, (batch_size, ))\n",
    "    x = torch.stack([data[i:i+block_size] for i in ix])\n",
    "    y = torch.stack([data[i+1:i+block_size+1] for i in ix])\n",
    "    x, y = x.to(device), y.to(device)\n",
    "    return x, y\n",
    "x, y = get_batch('train')\n",
    "print('inputs:')\n",
    "print(x)\n",
    "print('targets:')\n",
    "print(y)"
   ]
  },
  {
   "cell_type": "code",
   "execution_count": 6,
   "metadata": {},
   "outputs": [],
   "source": [
    "@torch.no_grad()\n",
    "def estimate_loss():\n",
    "    out = {}\n",
    "    model.eval()\n",
    "    for split in ['train', 'val']:\n",
    "        losses = torch.zeros(eval_iters)\n",
    "        for k in range(eval_iters):\n",
    "            X, Y = get_batch(split)\n",
    "            logits, loss = model(X, Y)\n",
    "            losses[k] = loss.item()\n",
    "        out[split] = losses.mean()\n",
    "    model.train()\n",
    "    return out"
   ]
  },
  {
   "cell_type": "code",
   "execution_count": 7,
   "metadata": {},
   "outputs": [],
   "source": [
    "# # Set the block size to 8. This is the number of elements to consider at a time from the training data.\n",
    "# block_size = 8\n",
    "\n",
    "# # Split the training data into two parts: 'x' and 'y'. 'x' is the first 'block_size' elements and 'y' is the next 'block_size' elements.\n",
    "# x, y = train_data[:block_size],  train_data[1:block_size+1]\n",
    "\n",
    "# # Loop over the range of block_size\n",
    "# for t in range(block_size):\n",
    "#     # The context is the first 't+1' elements of 'x'\n",
    "#     context = x[:t+1]\n",
    "#     # The target is the 't'-th element of 'y'\n",
    "#     target = y[t]\n",
    "#     # Print the context and target\n",
    "#     print('when input is', context, 'target is', target)"
   ]
  },
  {
   "cell_type": "code",
   "execution_count": 8,
   "metadata": {},
   "outputs": [],
   "source": [
    "class BigramLanguageModel(nn.Module):\n",
    "\n",
    "    def __init__(self, vocab_size):\n",
    "        super().__init__()\n",
    "        self.token_embedding_table = nn.Embedding(vocab_size, vocab_size)\n",
    "\n",
    "    def forward(self, index, targets=None):\n",
    "        logits = self.token_embedding_table(index)\n",
    "\n",
    "        if targets is None:\n",
    "            loss = None\n",
    "\n",
    "        else:\n",
    "            B, T, C = logits.shape\n",
    "            logits = logits.view(B*T, C)\n",
    "            targets = targets.view(B*T)\n",
    "            loss = F.cross_entropy(logits, targets)\n",
    "\n",
    "        return logits, loss\n",
    "    \n",
    "    def generate(self, index, max_new_tokens):\n",
    "        # index is (B, T) array of indices in the current context\n",
    "        for _ in range(max_new_tokens):\n",
    "            # get the predictions\n",
    "            logits, loss = self.forward(index)\n",
    "            # focus only on the last time step\n",
    "            logits = logits[:, -1, :] # becomes (B, C)\n",
    "            # apply softmax to get probabilities\n",
    "            probs = F.softmax(logits, dim=-1) # (B, C)\n",
    "            # sample from the distribution\n",
    "            index_next = torch.multinomial(probs, num_samples=1) # (B, 1)\n",
    "            # append sampled index to the running sequence\n",
    "            index = torch.cat((index, index_next), dim=1) # (B, T+1)\n",
    "\n",
    "        return index"
   ]
  },
  {
   "cell_type": "code",
   "execution_count": 9,
   "metadata": {},
   "outputs": [
    {
     "name": "stdout",
     "output_type": "stream",
     "text": [
      "\n",
      " m sharcofthed.\n",
      "\n",
      "ant ve afoucamo ted. s ceroo the?\"N whel med\n",
      "\n",
      "wom. tyor Ply lfid h\n",
      "Thond uemilarasth ted we.]Fje y ta\n",
      "wiviggng, s thttadise anghe ully and Thony. asheo a s.\"I's Ze as thelagasthenn,\" lemaroyo ladis he he y, mer trstorat an iland, forrd  tomersiore gicuthe tthethou \" adonowalenotthe tse thevaio lurne o. Theringlly they tore ache arelebucuche theryr tesireshorouf u pr tathyere, bed hearilly siedioweyouro mougimy ind thede g tide towe  lilowathettrure a them toniny. are\n",
      "\n",
      "\n",
      "yopre wng\n"
     ]
    }
   ],
   "source": [
    "model = torch.load(\"bigram.pth\") if os.path.exists(\"bigram.pth\") else BigramLanguageModel(vocab_size) \n",
    "m = model.to(device)\n",
    "context = torch.zeros((1, 1), dtype=torch.long, device=device)\n",
    "generated_chars = decode(m.generate(context, max_new_tokens=500)[0].tolist())\n",
    "print(generated_chars)"
   ]
  },
  {
   "cell_type": "code",
   "execution_count": 10,
   "metadata": {},
   "outputs": [
    {
     "name": "stdout",
     "output_type": "stream",
     "text": [
      "step: 0, train loss: 2.434, val loss: 2.519\n",
      "step: 250, train loss: 2.440, val loss: 2.508\n",
      "step: 500, train loss: 2.443, val loss: 2.462\n",
      "step: 750, train loss: 2.441, val loss: 2.475\n",
      "step: 1000, train loss: 2.462, val loss: 2.467\n",
      "step: 1250, train loss: 2.449, val loss: 2.463\n",
      "step: 1500, train loss: 2.417, val loss: 2.455\n",
      "step: 1750, train loss: 2.435, val loss: 2.489\n",
      "step: 2000, train loss: 2.441, val loss: 2.463\n",
      "step: 2250, train loss: 2.426, val loss: 2.473\n",
      "step: 2500, train loss: 2.416, val loss: 2.480\n",
      "step: 2750, train loss: 2.415, val loss: 2.446\n",
      "step: 3000, train loss: 2.438, val loss: 2.478\n",
      "step: 3250, train loss: 2.449, val loss: 2.481\n",
      "step: 3500, train loss: 2.419, val loss: 2.450\n",
      "step: 3750, train loss: 2.433, val loss: 2.461\n",
      "step: 4000, train loss: 2.427, val loss: 2.512\n",
      "step: 4250, train loss: 2.420, val loss: 2.479\n",
      "step: 4500, train loss: 2.414, val loss: 2.497\n",
      "step: 4750, train loss: 2.456, val loss: 2.488\n",
      "step: 5000, train loss: 2.412, val loss: 2.480\n",
      "step: 5250, train loss: 2.394, val loss: 2.466\n",
      "step: 5500, train loss: 2.416, val loss: 2.462\n",
      "step: 5750, train loss: 2.452, val loss: 2.451\n",
      "step: 6000, train loss: 2.453, val loss: 2.475\n",
      "step: 6250, train loss: 2.439, val loss: 2.488\n",
      "step: 6500, train loss: 2.431, val loss: 2.482\n",
      "step: 6750, train loss: 2.440, val loss: 2.460\n",
      "step: 7000, train loss: 2.435, val loss: 2.495\n",
      "step: 7250, train loss: 2.431, val loss: 2.486\n",
      "step: 7500, train loss: 2.437, val loss: 2.497\n",
      "step: 7750, train loss: 2.425, val loss: 2.482\n",
      "step: 8000, train loss: 2.435, val loss: 2.471\n",
      "step: 8250, train loss: 2.402, val loss: 2.456\n",
      "step: 8500, train loss: 2.416, val loss: 2.495\n",
      "step: 8750, train loss: 2.433, val loss: 2.495\n",
      "step: 9000, train loss: 2.443, val loss: 2.503\n",
      "step: 9250, train loss: 2.453, val loss: 2.467\n",
      "step: 9500, train loss: 2.430, val loss: 2.486\n",
      "step: 9750, train loss: 2.421, val loss: 2.450\n",
      "2.1403446197509766\n",
      "CPU times: user 26 s, sys: 5.96 s, total: 32 s\n",
      "Wall time: 47.2 s\n"
     ]
    }
   ],
   "source": [
    "%%time\n",
    "# Create a PyTorch optimizer\n",
    "optimizer = torch.optim.AdamW(model.parameters(), lr=learning_rate)\n",
    "\n",
    "for iter in range(max_iters):\n",
    "    if iter % eval_iters == 0:\n",
    "        losses = estimate_loss()\n",
    "        print(f\"step: {iter}, train loss: {losses['train']:.3f}, val loss: {losses['val']:.3f}\")\n",
    "\n",
    "    # sample a batch of data\n",
    "    xb, yb = get_batch('train')\n",
    "    # evaluate the loss\n",
    "    logits, loss = model.forward(xb, yb)\n",
    "    optimizer.zero_grad(set_to_none=True)\n",
    "    loss.backward()\n",
    "    optimizer.step()\n",
    "print(loss.item())"
   ]
  },
  {
   "cell_type": "code",
   "execution_count": 11,
   "metadata": {},
   "outputs": [
    {
     "name": "stdout",
     "output_type": "stream",
     "text": [
      "\n",
      "n med oncle\n",
      "m thending, len at\n",
      "Thy, be sursthet?\" tote p vetoreeis\n",
      "\" s anctlid wioy the nd tovinkeraco bls mantig, hathe ucouithay auithed \"Whtheng wain wizaniothe erind orally inofo b s pos. wndeerearrerd w am,\"\n",
      "pthiglooksthad thinddnens, nd h E\n",
      "atinond th ikilld sckiopemerdopoo\n",
      "\"Burrse thed gremo ly an s Th, usealkne tougrwan ancen ftub-sooat tidinenong lar igaige thesthte lsunithache the tand t w Do GE thecace 5A th cea n edss lt we ima   whero Mangedise.\"\n",
      "\"NKS4f umarsa anoure coofroucuppovev\n"
     ]
    }
   ],
   "source": [
    "context = torch.zeros((1, 1), dtype=torch.long, device=device)\n",
    "generated_chars = decode(m.generate(context, max_new_tokens=500)[0].tolist())\n",
    "print(generated_chars)"
   ]
  },
  {
   "cell_type": "code",
   "execution_count": 12,
   "metadata": {},
   "outputs": [],
   "source": [
    "torch.save(m, \"bigram.pth\")"
   ]
  },
  {
   "cell_type": "code",
   "execution_count": null,
   "metadata": {},
   "outputs": [],
   "source": []
  }
 ],
 "metadata": {
  "kernelspec": {
   "display_name": "PranavGPT",
   "language": "python",
   "name": "python3"
  },
  "language_info": {
   "codemirror_mode": {
    "name": "ipython",
    "version": 3
   },
   "file_extension": ".py",
   "mimetype": "text/x-python",
   "name": "python",
   "nbconvert_exporter": "python",
   "pygments_lexer": "ipython3",
   "version": "3.11.6"
  }
 },
 "nbformat": 4,
 "nbformat_minor": 2
}
